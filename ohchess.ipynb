{
 "cells": [
  {
   "cell_type": "code",
   "execution_count": 90,
   "metadata": {},
   "outputs": [
    {
     "name": "stdout",
     "output_type": "stream",
     "text": [
      "The autoreload extension is already loaded. To reload it, use:\n",
      "  %reload_ext autoreload\n"
     ]
    }
   ],
   "source": [
    "%load_ext autoreload\n",
    "%autoreload 2\n",
    "import pandas as pd\n",
    "import chess\n",
    "import networkx as nx\n",
    "import matplotlib.pyplot as plt\n"
   ]
  },
  {
   "cell_type": "code",
   "execution_count": 118,
   "metadata": {},
   "outputs": [
    {
     "data": {
      "text/html": [
       "<div>\n",
       "<style scoped>\n",
       "    .dataframe tbody tr th:only-of-type {\n",
       "        vertical-align: middle;\n",
       "    }\n",
       "\n",
       "    .dataframe tbody tr th {\n",
       "        vertical-align: top;\n",
       "    }\n",
       "\n",
       "    .dataframe thead th {\n",
       "        text-align: right;\n",
       "    }\n",
       "</style>\n",
       "<table border=\"1\" class=\"dataframe\">\n",
       "  <thead>\n",
       "    <tr style=\"text-align: right;\">\n",
       "      <th></th>\n",
       "      <th>0</th>\n",
       "      <th>1</th>\n",
       "      <th>2</th>\n",
       "      <th>3</th>\n",
       "      <th>4</th>\n",
       "    </tr>\n",
       "  </thead>\n",
       "  <tbody>\n",
       "    <tr>\n",
       "      <th>0</th>\n",
       "      <td>d4</td>\n",
       "      <td></td>\n",
       "      <td></td>\n",
       "      <td></td>\n",
       "      <td></td>\n",
       "    </tr>\n",
       "    <tr>\n",
       "      <th>1</th>\n",
       "      <td>Nf6</td>\n",
       "      <td></td>\n",
       "      <td></td>\n",
       "      <td></td>\n",
       "      <td></td>\n",
       "    </tr>\n",
       "    <tr>\n",
       "      <th>2</th>\n",
       "      <td>c4</td>\n",
       "      <td></td>\n",
       "      <td></td>\n",
       "      <td></td>\n",
       "      <td></td>\n",
       "    </tr>\n",
       "    <tr>\n",
       "      <th>3</th>\n",
       "      <td>e6</td>\n",
       "      <td></td>\n",
       "      <td></td>\n",
       "      <td></td>\n",
       "      <td></td>\n",
       "    </tr>\n",
       "    <tr>\n",
       "      <th>4</th>\n",
       "      <td>Nf3</td>\n",
       "      <td></td>\n",
       "      <td></td>\n",
       "      <td></td>\n",
       "      <td></td>\n",
       "    </tr>\n",
       "    <tr>\n",
       "      <th>5</th>\n",
       "      <td>d5</td>\n",
       "      <td>b6</td>\n",
       "      <td>c6</td>\n",
       "      <td>b6</td>\n",
       "      <td>c6</td>\n",
       "    </tr>\n",
       "    <tr>\n",
       "      <th>6</th>\n",
       "      <td>Nc3</td>\n",
       "      <td>Nc3</td>\n",
       "      <td>test</td>\n",
       "      <td>test</td>\n",
       "      <td>test</td>\n",
       "    </tr>\n",
       "    <tr>\n",
       "      <th>7</th>\n",
       "      <td>Nc3</td>\n",
       "      <td>Nc3</td>\n",
       "      <td>test</td>\n",
       "      <td>blub2</td>\n",
       "      <td>blub2</td>\n",
       "    </tr>\n",
       "  </tbody>\n",
       "</table>\n",
       "</div>"
      ],
      "text/plain": [
       "     0    1     2      3      4\n",
       "0   d4                         \n",
       "1  Nf6                         \n",
       "2   c4                         \n",
       "3   e6                         \n",
       "4  Nf3                         \n",
       "5   d5   b6    c6     b6     c6\n",
       "6  Nc3  Nc3  test   test   test\n",
       "7  Nc3  Nc3  test  blub2  blub2"
      ]
     },
     "execution_count": 118,
     "metadata": {},
     "output_type": "execute_result"
    }
   ],
   "source": [
    "board = chess.Board()\n",
    "\n",
    "game = \"d4\"\n",
    "\n",
    "df = pd.read_csv(f\"{game}.csv\", header=None, delimiter=\",\").fillna('').applymap(lambda x: x.replace(\" \", \"\") if isinstance(x, str) else x)\n",
    "\n",
    "\n",
    "df\n",
    "\n",
    "\n"
   ]
  },
  {
   "cell_type": "code",
   "execution_count": 122,
   "metadata": {},
   "outputs": [
    {
     "name": "stdout",
     "output_type": "stream",
     "text": [
      "1 1 2,1_Nf6 ['d4']\n",
      "2 1 3,1_c4 ['2,1_Nf6']\n",
      "3 1 4,1_e6 ['3,1_c4']\n",
      "4 1 5,1_Nf3 ['4,1_e6']\n",
      "5 1 6,1_d5 ['5,1_Nf3']\n",
      "5 2 6,2_b6 ['6,1_d5', 'd4']\n",
      "5 3 6,3_c6 ['6,1_d5', '6,2_b6', 'd4']\n",
      "hallo 3 3 duplicate: 6,4_b6\n",
      "5 4 6,4_b6 ['6,1_d5', '6,2_b6', '6,3_c6', 'd4']\n",
      "hallo 4 4 duplicate: 6,5_c6\n",
      "5 5 6,5_c6 ['6,1_d5', '6,2_b6', '6,3_c6', '6,4_b6', 'd4']\n",
      "6 5 7,1_Nc3 ['6,1_d5', '6,2_b6', '6,3_c6', '6,4_b6', '6,5_c6']\n",
      "6 5 7,2_Nc3 ['7,1_Nc3', '6,2_b6', '6,3_c6', '6,4_b6', '6,5_c6']\n",
      "6 5 7,3_test ['7,1_Nc3', '7,2_Nc3', '6,3_c6', '6,4_b6', '6,5_c6']\n",
      "6 5 7,4_test ['7,1_Nc3', '7,2_Nc3', '7,3_test', '6,4_b6', '6,5_c6']\n",
      "6 5 7,5_test ['7,1_Nc3', '7,2_Nc3', '7,3_test', '7,4_test', '6,5_c6']\n",
      "7 5 8,1_Nc3 ['7,1_Nc3', '7,2_Nc3', '7,3_test', '7,4_test', '7,5_test']\n",
      "7 5 8,2_Nc3 ['8,1_Nc3', '7,2_Nc3', '7,3_test', '7,4_test', '7,5_test']\n",
      "7 5 8,3_test ['8,1_Nc3', '8,2_Nc3', '7,3_test', '7,4_test', '7,5_test']\n",
      "7 5 8,4_blub2 ['8,1_Nc3', '8,2_Nc3', '8,3_test', '7,4_test', '7,5_test']\n",
      "7 5 8,5_blub2 ['8,1_Nc3', '8,2_Nc3', '8,3_test', '8,4_blub2', '7,5_test']\n"
     ]
    },
    {
     "data": {
      "text/plain": [
       "5"
      ]
     },
     "execution_count": 122,
     "metadata": {},
     "output_type": "execute_result"
    }
   ],
   "source": [
    "# Create an empty directed graph\n",
    "G = nx.DiGraph()\n",
    "\n",
    "games = 1\n",
    "\n",
    "root = df.iloc[0,0]\n",
    "\n",
    "G.add_node(root)\n",
    "\n",
    "prev = [root]\n",
    "\n",
    "# Iterate over each row in the dataframe\n",
    "for i, row in df.iterrows():\n",
    "    if i > 0: # skip first move\n",
    "        moves = row\n",
    "        for j in range(len(moves)):\n",
    "            node = f\"{i+1},{j+1}_{moves[j]}\"\n",
    "\n",
    "            if moves[j] != \"\":\n",
    "\n",
    "                G.add_node(node)  # Add the current move as a node\n",
    "                \n",
    "                if j > 0:\n",
    "                    if moves[j] in list(moves[:j]):\n",
    "\n",
    "                        if games == j:\n",
    "                            G.remove_node(node)\n",
    "                            duplicate = node\n",
    "\n",
    "                            print(\"hallo\", j, games, f\"duplicate: {node}\")\n",
    "\n",
    "                if (j+1) > games:\n",
    "                    games  += 1\n",
    "\n",
    "                    prev += [root]\n",
    "                    \n",
    "                print(i,games, node, prev)\n",
    "\n",
    "                prev[j] = node\n",
    "\n",
    "\n",
    "\n",
    "\n",
    " \n",
    "games"
   ]
  },
  {
   "cell_type": "code",
   "execution_count": 36,
   "metadata": {},
   "outputs": [
    {
     "name": "stdout",
     "output_type": "stream",
     "text": [
      "DiGraph with 7 nodes and 0 edges\n"
     ]
    }
   ],
   "source": [
    "print(G)"
   ]
  },
  {
   "cell_type": "code",
   "execution_count": 105,
   "metadata": {},
   "outputs": [
    {
     "data": {
      "image/png": "[encoded data removed]",
      "text/plain": [
       "<Figure size 640x480 with 1 Axes>"
      ]
     },
     "metadata": {},
     "output_type": "display_data"
    }
   ],
   "source": [
    "# Draw the graph\n",
    "pos = nx.spring_layout(G)  # Define the layout for the graph\n",
    "nx.draw(G, pos, with_labels=True, node_color='lightblue', edge_color='gray', node_size=500)\n",
    "\n",
    "# Show the graph in Jupyter Notebook\n",
    "plt.show()"
   ]
  }
 ],
 "metadata": {
  "kernelspec": {
   "display_name": "Python 3",
   "language": "python",
   "name": "python3"
  },
  "language_info": {
   "codemirror_mode": {
    "name": "ipython",
    "version": 3
   },
   "file_extension": ".py",
   "mimetype": "text/x-python",
   "name": "python",
   "nbconvert_exporter": "python",
   "pygments_lexer": "ipython3",
   "version": "3.8.17"
  },
  "orig_nbformat": 4
 },
 "nbformat": 4,
 "nbformat_minor": 2
}
